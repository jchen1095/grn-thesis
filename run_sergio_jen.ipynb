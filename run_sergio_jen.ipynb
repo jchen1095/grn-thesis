{
 "cells": [
  {
   "cell_type": "code",
   "execution_count": 1,
   "metadata": {
    "collapsed": true
   },
   "outputs": [],
   "source": [
    "import numpy as np\n",
    "import pandas as pd\n",
    "from SERGIO.sergio import sergio"
   ]
  },
  {
   "cell_type": "markdown",
   "metadata": {},
   "source": [
    "# Simulate Clean Data _ Steady-State Simulation"
   ]
  },
  {
   "cell_type": "code",
   "execution_count": 2,
   "metadata": {
    "collapsed": true
   },
   "outputs": [
    {
     "name": "stdout",
     "output_type": "stream",
     "text": [
      "Start simulating new level\n",
      "There are 1 genes to simulate in this layer\n",
      "Done with current level\n",
      "Start simulating new level\n",
      "There are 1 genes to simulate in this layer\n",
      "Done with current level\n",
      "Start simulating new level\n",
      "There are 1 genes to simulate in this layer\n",
      "Done with current level\n",
      "Start simulating new level\n",
      "There are 2 genes to simulate in this layer\n",
      "Done with current level\n"
     ]
    }
   ],
   "source": [
    "sim = sergio(number_genes=5, number_bins = 4, number_sc = 100, noise_params = 1, decays=0.8, sampling_state=3, noise_type='dpd')\n",
    "sim.build_graph(input_file_taregts ='data_sets/jens_grn/grn.txt', input_file_regs='data_sets/jens_grn/regulators_cid.txt', shared_coop_state=2)\n",
    "sim.simulate()\n",
    "\n",
    "expr = sim.getExpressions()\n",
    "expr_clean = np.concatenate(expr, axis = 1)\n"
   ]
  },
  {
   "cell_type": "markdown",
   "metadata": {
    "collapsed": true
   },
   "source": [
    "# Add Technical Noise _ Steady-State Simulations"
   ]
  },
  {
   "cell_type": "code",
   "execution_count": null,
   "metadata": {
    "collapsed": true
   },
   "outputs": [
    {
     "name": "stderr",
     "output_type": "stream",
     "text": [
      "/oscar/home/jchen397/test_sergio/SERGIO/SERGIO/sergio.py:911: RuntimeWarning: divide by zero encountered in divide\n",
      "  binFactors = np.true_divide(binFactors, normalizFactors)\n",
      "/oscar/home/jchen397/test_sergio/SERGIO/SERGIO/sergio.py:915: RuntimeWarning: invalid value encountered in multiply\n",
      "  ret_data.append(np.multiply(binExprMatrix, binFactors))\n"
     ]
    },
    {
     "name": "stdout",
     "output_type": "stream",
     "text": [
      "prob_ber contains NaNs: True\n",
      "Min value: nan, Max value: nan\n"
     ]
    },
    {
     "ename": "ValueError",
     "evalue": "p < 0, p > 1 or p contains NaNs",
     "output_type": "error",
     "traceback": [
      "\u001b[0;31m---------------------------------------------------------------------------\u001b[0m",
      "\u001b[0;31mValueError\u001b[0m                                Traceback (most recent call last)",
      "\u001b[1;32m/users/jchen397/test_sergio/SERGIO/run_sergio_jen.ipynb Cell 5\u001b[0m line \u001b[0;36m1\n\u001b[1;32m      <a href='vscode-notebook-cell://ood.ccv.brown.edu/users/jchen397/test_sergio/SERGIO/run_sergio_jen.ipynb#W4sdnNjb2RlLXJlbW90ZQ%3D%3D?line=8'>9</a>\u001b[0m libFactor, expr_O_L \u001b[39m=\u001b[39m sim\u001b[39m.\u001b[39mlib_size_effect(expr_O, mean \u001b[39m=\u001b[39m \u001b[39m4.6\u001b[39m, scale \u001b[39m=\u001b[39m \u001b[39m0.4\u001b[39m)\n\u001b[1;32m     <a href='vscode-notebook-cell://ood.ccv.brown.edu/users/jchen397/test_sergio/SERGIO/run_sergio_jen.ipynb#W4sdnNjb2RlLXJlbW90ZQ%3D%3D?line=10'>11</a>\u001b[0m \u001b[39m\"\"\"\u001b[39;00m\n\u001b[1;32m     <a href='vscode-notebook-cell://ood.ccv.brown.edu/users/jchen397/test_sergio/SERGIO/run_sergio_jen.ipynb#W4sdnNjb2RlLXJlbW90ZQ%3D%3D?line=11'>12</a>\u001b[0m \u001b[39mAdd Dropouts\u001b[39;00m\n\u001b[1;32m     <a href='vscode-notebook-cell://ood.ccv.brown.edu/users/jchen397/test_sergio/SERGIO/run_sergio_jen.ipynb#W4sdnNjb2RlLXJlbW90ZQ%3D%3D?line=12'>13</a>\u001b[0m \u001b[39m\"\"\"\u001b[39;00m\n\u001b[0;32m---> <a href='vscode-notebook-cell://ood.ccv.brown.edu/users/jchen397/test_sergio/SERGIO/run_sergio_jen.ipynb#W4sdnNjb2RlLXJlbW90ZQ%3D%3D?line=13'>14</a>\u001b[0m binary_ind \u001b[39m=\u001b[39m sim\u001b[39m.\u001b[39;49mdropout_indicator(expr_O_L, shape \u001b[39m=\u001b[39;49m \u001b[39m6.5\u001b[39;49m, percentile \u001b[39m=\u001b[39;49m \u001b[39m82\u001b[39;49m)\n\u001b[1;32m     <a href='vscode-notebook-cell://ood.ccv.brown.edu/users/jchen397/test_sergio/SERGIO/run_sergio_jen.ipynb#W4sdnNjb2RlLXJlbW90ZQ%3D%3D?line=14'>15</a>\u001b[0m expr_O_L_D \u001b[39m=\u001b[39m np\u001b[39m.\u001b[39mmultiply(binary_ind, expr_O_L)\n\u001b[1;32m     <a href='vscode-notebook-cell://ood.ccv.brown.edu/users/jchen397/test_sergio/SERGIO/run_sergio_jen.ipynb#W4sdnNjb2RlLXJlbW90ZQ%3D%3D?line=16'>17</a>\u001b[0m \u001b[39m\"\"\"\u001b[39;00m\n\u001b[1;32m     <a href='vscode-notebook-cell://ood.ccv.brown.edu/users/jchen397/test_sergio/SERGIO/run_sergio_jen.ipynb#W4sdnNjb2RlLXJlbW90ZQ%3D%3D?line=17'>18</a>\u001b[0m \u001b[39mConvert to UMI count\u001b[39;00m\n\u001b[1;32m     <a href='vscode-notebook-cell://ood.ccv.brown.edu/users/jchen397/test_sergio/SERGIO/run_sergio_jen.ipynb#W4sdnNjb2RlLXJlbW90ZQ%3D%3D?line=18'>19</a>\u001b[0m \u001b[39m\"\"\"\u001b[39;00m\n",
      "File \u001b[0;32m/oscar/home/jchen397/test_sergio/SERGIO/SERGIO/sergio.py:943\u001b[0m, in \u001b[0;36msergio.dropout_indicator\u001b[0;34m(self, scData, shape, percentile)\u001b[0m\n\u001b[1;32m    940\u001b[0m \u001b[39mprint\u001b[39m(\u001b[39mf\u001b[39m\u001b[39m\"\u001b[39m\u001b[39mprob_ber contains NaNs: \u001b[39m\u001b[39m{\u001b[39;00mnp\u001b[39m.\u001b[39misnan(prob_ber)\u001b[39m.\u001b[39many()\u001b[39m}\u001b[39;00m\u001b[39m\"\u001b[39m)\n\u001b[1;32m    941\u001b[0m \u001b[39mprint\u001b[39m(\u001b[39mf\u001b[39m\u001b[39m\"\u001b[39m\u001b[39mMin value: \u001b[39m\u001b[39m{\u001b[39;00mnp\u001b[39m.\u001b[39mmin(prob_ber)\u001b[39m}\u001b[39;00m\u001b[39m, Max value: \u001b[39m\u001b[39m{\u001b[39;00mnp\u001b[39m.\u001b[39mmax(prob_ber)\u001b[39m}\u001b[39;00m\u001b[39m\"\u001b[39m)\n\u001b[0;32m--> 943\u001b[0m binary_ind \u001b[39m=\u001b[39m np\u001b[39m.\u001b[39;49mrandom\u001b[39m.\u001b[39;49mbinomial( n \u001b[39m=\u001b[39;49m \u001b[39m1\u001b[39;49m, p \u001b[39m=\u001b[39;49m prob_ber)\n\u001b[1;32m    945\u001b[0m \u001b[39mreturn\u001b[39;00m binary_ind\n",
      "File \u001b[0;32mnumpy/random/mtrand.pyx:3460\u001b[0m, in \u001b[0;36mnumpy.random.mtrand.RandomState.binomial\u001b[0;34m()\u001b[0m\n",
      "File \u001b[0;32m_common.pyx:391\u001b[0m, in \u001b[0;36mnumpy.random._common.check_array_constraint\u001b[0;34m()\u001b[0m\n",
      "File \u001b[0;32m_common.pyx:377\u001b[0m, in \u001b[0;36mnumpy.random._common._check_array_cons_bounded_0_1\u001b[0;34m()\u001b[0m\n",
      "\u001b[0;31mValueError\u001b[0m: p < 0, p > 1 or p contains NaNs"
     ]
    }
   ],
   "source": [
    "\"\"\"\n",
    "Add outlier genes\n",
    "\"\"\"\n",
    "expr_O = sim.outlier_effect(expr, outlier_prob = 0.01, mean = 0.8, scale = 1)\n",
    "\n",
    "\"\"\"\n",
    "Add Library Size Effect\n",
    "\"\"\"\n",
    "libFactor, expr_O_L = sim.lib_size_effect(expr_O, mean = 4.6, scale = 0.4)\n",
    "\n",
    "\"\"\"\n",
    "Add Dropouts\n",
    "\"\"\"\n",
    "binary_ind = sim.dropout_indicator(expr_O_L, shape = 6.5, percentile = 82)\n",
    "expr_O_L_D = np.multiply(binary_ind, expr_O_L)\n",
    "\n",
    "\"\"\"\n",
    "Convert to UMI count\n",
    "\"\"\"\n",
    "count_matrix = sim.convert_to_UMIcounts(expr_O_L_D)\n",
    "\n",
    "\"\"\"\n",
    "Make a 2d gene expression matrix\n",
    "\"\"\"\n",
    "count_matrix = np.concatenate(count_matrix, axis = 1)"
   ]
  },
  {
   "cell_type": "markdown",
   "metadata": {},
   "source": [
    "# Simulate Clean Data _ differentiation Simulation"
   ]
  },
  {
   "cell_type": "code",
   "execution_count": 2,
   "metadata": {
    "collapsed": true
   },
   "outputs": [
    {
     "name": "stderr",
     "output_type": "stream",
     "text": [
      "/tmp/ipykernel_2061176/1147402302.py:3: FutureWarning: The 'delim_whitespace' keyword in pd.read_csv is deprecated and will be removed in a future version. Use ``sep='\\s+'`` instead\n",
      "  df = pd.read_csv('data_sets/jens_grn/differentiation.tab', delim_whitespace=True, header=None, index_col=None)\n"
     ]
    },
    {
     "name": "stdout",
     "output_type": "stream",
     "text": [
      "(3, 3)\n",
      "bindict\n"
     ]
    },
    {
     "ename": "KeyError",
     "evalue": "0",
     "output_type": "error",
     "traceback": [
      "\u001b[0;31m---------------------------------------------------------------------------\u001b[0m",
      "\u001b[0;31mKeyError\u001b[0m                                  Traceback (most recent call last)",
      "\u001b[1;32m/users/jchen397/test_sergio/SERGIO/run_sergio_jen.ipynb Cell 7\u001b[0m line \u001b[0;36m1\n\u001b[1;32m     <a href='vscode-notebook-cell://ood.ccv.brown.edu/users/jchen397/test_sergio/SERGIO/run_sergio_jen.ipynb#W6sdnNjb2RlLXJlbW90ZQ%3D%3D?line=11'>12</a>\u001b[0m sim \u001b[39m=\u001b[39m sergio(number_genes\u001b[39m=\u001b[39m\u001b[39m5\u001b[39m, number_bins \u001b[39m=\u001b[39m \u001b[39m3\u001b[39m, number_sc \u001b[39m=\u001b[39m \u001b[39m100\u001b[39m, noise_params \u001b[39m=\u001b[39m \u001b[39m1\u001b[39m, decays\u001b[39m=\u001b[39m\u001b[39m0.8\u001b[39m, sampling_state\u001b[39m=\u001b[39m\u001b[39m3\u001b[39m, noise_type\u001b[39m=\u001b[39m\u001b[39m'\u001b[39m\u001b[39mdpd\u001b[39m\u001b[39m'\u001b[39m)\n\u001b[1;32m     <a href='vscode-notebook-cell://ood.ccv.brown.edu/users/jchen397/test_sergio/SERGIO/run_sergio_jen.ipynb#W6sdnNjb2RlLXJlbW90ZQ%3D%3D?line=13'>14</a>\u001b[0m sim\u001b[39m.\u001b[39mbuild_graph(input_file_taregts \u001b[39m=\u001b[39m\u001b[39m'\u001b[39m\u001b[39mdata_sets/jens_grn/grn.txt\u001b[39m\u001b[39m'\u001b[39m, input_file_regs\u001b[39m=\u001b[39m\u001b[39m'\u001b[39m\u001b[39mdata_sets/jens_grn/regulators_cid.txt\u001b[39m\u001b[39m'\u001b[39m, shared_coop_state\u001b[39m=\u001b[39m\u001b[39m2\u001b[39m)\n\u001b[0;32m---> <a href='vscode-notebook-cell://ood.ccv.brown.edu/users/jchen397/test_sergio/SERGIO/run_sergio_jen.ipynb#W6sdnNjb2RlLXJlbW90ZQ%3D%3D?line=15'>16</a>\u001b[0m sim\u001b[39m.\u001b[39;49msimulate_dynamics()\n\u001b[1;32m     <a href='vscode-notebook-cell://ood.ccv.brown.edu/users/jchen397/test_sergio/SERGIO/run_sergio_jen.ipynb#W6sdnNjb2RlLXJlbW90ZQ%3D%3D?line=16'>17</a>\u001b[0m \u001b[39m# final ct matrix is the sum of U and S\u001b[39;00m\n\u001b[1;32m     <a href='vscode-notebook-cell://ood.ccv.brown.edu/users/jchen397/test_sergio/SERGIO/run_sergio_jen.ipynb#W6sdnNjb2RlLXJlbW90ZQ%3D%3D?line=17'>18</a>\u001b[0m \u001b[39m#spliced matrix, unspliced, sum of both, pseudotime (probs just a vector bc each element in pseudotime is 1d scalar for 1 cell)\u001b[39;00m\n\u001b[1;32m     <a href='vscode-notebook-cell://ood.ccv.brown.edu/users/jchen397/test_sergio/SERGIO/run_sergio_jen.ipynb#W6sdnNjb2RlLXJlbW90ZQ%3D%3D?line=18'>19</a>\u001b[0m exprU, exprS \u001b[39m=\u001b[39m sim\u001b[39m.\u001b[39mgetExpressions_dynamics()\n",
      "File \u001b[0;32m/oscar/home/jchen397/test_sergio/SERGIO/SERGIO/sergio.py:841\u001b[0m, in \u001b[0;36msergio.simulate_dynamics\u001b[0;34m(self)\u001b[0m\n\u001b[1;32m    840\u001b[0m \u001b[39mdef\u001b[39;00m \u001b[39msimulate_dynamics\u001b[39m(\u001b[39mself\u001b[39m):\n\u001b[0;32m--> 841\u001b[0m     \u001b[39mself\u001b[39;49m\u001b[39m.\u001b[39;49mcalculate_ssConc_()\n\u001b[1;32m    842\u001b[0m     \u001b[39mfor\u001b[39;00m bi \u001b[39min\u001b[39;00m \u001b[39mself\u001b[39m\u001b[39m.\u001b[39mbinOrders_:\n\u001b[1;32m    843\u001b[0m         \u001b[39mprint\u001b[39m (\u001b[39m\"\u001b[39m\u001b[39mStart simulating new cell type\u001b[39m\u001b[39m\"\u001b[39m)\n",
      "File \u001b[0;32m/oscar/home/jchen397/test_sergio/SERGIO/SERGIO/sergio.py:577\u001b[0m, in \u001b[0;36msergio.calculate_ssConc_\u001b[0;34m(self)\u001b[0m\n\u001b[1;32m    573\u001b[0m currRate \u001b[39m=\u001b[39m \u001b[39mself\u001b[39m\u001b[39m.\u001b[39mgraph_[g[\u001b[39m0\u001b[39m]\u001b[39m.\u001b[39mID][\u001b[39m'\u001b[39m\u001b[39mrates\u001b[39m\u001b[39m'\u001b[39m][binID]\n\u001b[1;32m    574\u001b[0m \u001b[39m# print(self.bindict[binID])\u001b[39;00m\n\u001b[1;32m    575\u001b[0m \u001b[39m# print(g[0].ID)\u001b[39;00m\n\u001b[1;32m    576\u001b[0m \u001b[39m# print(self.binDict[binID][g[0].ID])\u001b[39;00m\n\u001b[0;32m--> 577\u001b[0m \u001b[39mself\u001b[39;49m\u001b[39m.\u001b[39;49mbinDict[binID][g[\u001b[39m0\u001b[39m]\u001b[39m.\u001b[39mID] \u001b[39m=\u001b[39m gene(g[\u001b[39m0\u001b[39m]\u001b[39m.\u001b[39mID, \u001b[39m'\u001b[39m\u001b[39mMR\u001b[39m\u001b[39m'\u001b[39m, binID)\n\u001b[1;32m    578\u001b[0m \u001b[39mself\u001b[39m\u001b[39m.\u001b[39mbinDict[binID][g[\u001b[39m0\u001b[39m]\u001b[39m.\u001b[39mID]\u001b[39m.\u001b[39mset_ss_conc_U(np\u001b[39m.\u001b[39mtrue_divide(currRate, \u001b[39mself\u001b[39m\u001b[39m.\u001b[39mdecayVector_[g[\u001b[39m0\u001b[39m]\u001b[39m.\u001b[39mID]))\n\u001b[1;32m    579\u001b[0m \u001b[39mself\u001b[39m\u001b[39m.\u001b[39mbinDict[binID][g[\u001b[39m0\u001b[39m]\u001b[39m.\u001b[39mID]\u001b[39m.\u001b[39mset_ss_conc_S(\u001b[39mself\u001b[39m\u001b[39m.\u001b[39mratioSp_[g[\u001b[39m0\u001b[39m]\u001b[39m.\u001b[39mID] \u001b[39m*\u001b[39m np\u001b[39m.\u001b[39mtrue_divide(currRate, \u001b[39mself\u001b[39m\u001b[39m.\u001b[39mdecayVector_[g[\u001b[39m0\u001b[39m]\u001b[39m.\u001b[39mID]))\n",
      "\u001b[0;31mKeyError\u001b[0m: 0"
     ]
    }
   ],
   "source": [
    "# !head data_sets/jens_grn/differentiation.tab\n",
    "\n",
    "df = pd.read_csv('data_sets/jens_grn/differentiation.tab', delim_whitespace=True, header=None, index_col=None)\n",
    "bMat = df.values\n",
    "print(bMat.shape)\n",
    "#rows and cols correspond to genes and cells (just verify)\n",
    "# 100 x (6 x 300 )\n",
    "#  100 genes, 6 cell types, 6 bins of 300 cells per cell type\n",
    "# sim = sergio(number_genes=100, number_bins = 6, number_sc = 300, noise_params = 0.2, decays=0.8, sampling_state = 1, noise_params_splice = 0.07, noise_type='dpd', dynamics=True, bifurcation_matrix= bMat)\n",
    "# sim.build_graph(input_file_taregts ='data_sets/De-noised_100G_6T_300cPerT_dynamics_7_DS6/Interaction_cID_7.txt', input_file_regs='data_sets/De-noised_100G_6T_300cPerT_dynamics_7_DS6/Regs_cID_7.txt', shared_coop_state=2)\n",
    "\n",
    "sim = sergio(number_genes=5, number_bins = 3, number_sc = 100, noise_params = 1, decays=0.8, sampling_state=3, noise_type='dpd')\n",
    "\n",
    "sim.build_graph(input_file_taregts ='data_sets/jens_grn/grn.txt', input_file_regs='data_sets/jens_grn/regulators_cid.txt', shared_coop_state=2)\n",
    "\n",
    "sim.simulate_dynamics()\n",
    "# final ct matrix is the sum of U and S\n",
    "#spliced matrix, unspliced, sum of both, pseudotime (probs just a vector bc each element in pseudotime is 1d scalar for 1 cell)\n",
    "exprU, exprS = sim.getExpressions_dynamics()\n",
    "exprU_clean = np.concatenate(exprU, axis = 1)\n",
    "print(exprU_clean)\n",
    "print(exprU_clean.shape)\n",
    "\n",
    "exprS_clean = np.concatenate(exprS, axis = 1)\n",
    "print(f\"exprU_clean shape: {exprU_clean.shape}\")\n",
    "print(f\"exprS_clean shape: {exprS_clean.shape}\")\n",
    "\n",
    "# Print the number of columns for each row\n",
    "for i, row in enumerate(exprU_clean):\n",
    "    print(f\"Row {i} of exprU_clean has {len(row)} columns\")\n",
    "\n",
    "for i, row in enumerate(exprS_clean):\n",
    "    print(f\"Row {i} of exprS_clean has {len(row)} columns\")\n",
    "\n",
    "# Optionally save to text files\n",
    "np.savetxt('exprU_clean.txt', exprU_clean, delimiter=' ', fmt='%f')\n",
    "np.savetxt('exprS_clean.txt', exprS_clean, delimiter=' ', fmt='%f')"
   ]
  },
  {
   "cell_type": "markdown",
   "metadata": {},
   "source": [
    "# Add Technical Noise _ differentiation Simulations"
   ]
  },
  {
   "cell_type": "code",
   "execution_count": null,
   "metadata": {
    "collapsed": true
   },
   "outputs": [],
   "source": [
    "\"\"\"\n",
    "Add outlier genes\n",
    "\"\"\"\n",
    "exprU_O, exprS_O = sim.outlier_effect_dynamics(exprU, exprS, outlier_prob = 0.01, mean = 0.8, scale = 1)\n",
    "\n",
    "\"\"\"\n",
    "Add Library Size Effect\n",
    "\"\"\"\n",
    "libFactor, exprU_O_L, exprS_O_L = sim.lib_size_effect_dynamics(exprU_O, exprS_O, mean = 4.6, scale = 0.4)\n",
    "\n",
    "\"\"\"\n",
    "Add Dropouts\n",
    "\"\"\"\n",
    "binary_indU, binary_indS = sim.dropout_indicator_dynamics(exprU_O_L, exprS_O_L, shape = 6.5, percentile = 82)\n",
    "exprU_O_L_D = np.multiply(binary_indU, exprU_O_L)\n",
    "exprS_O_L_D = np.multiply(binary_indS, exprS_O_L)\n",
    "\n",
    "\"\"\"\n",
    "Convert to UMI count\n",
    "\"\"\"\n",
    "count_matrix_U, count_matrix_S = sim.convert_to_UMIcounts_dynamics(exprU_O_L_D, exprS_O_L_D)\n",
    "\n",
    "\"\"\"\n",
    "Make 2d spliced and unspliced expression matrices\n",
    "\"\"\"\n",
    "count_matrix_U = np.concatenate(count_matrix_U, axis = 1)\n",
    "count_matrix_S = np.concatenate(count_matrix_S, axis = 1)"
   ]
  },
  {
   "cell_type": "code",
   "execution_count": null,
   "metadata": {},
   "outputs": [],
   "source": [
    "sim.calculate_ssConc_()"
   ]
  }
 ],
 "metadata": {
  "kernelspec": {
   "display_name": "Python 3",
   "language": "python",
   "name": "python3"
  },
  "language_info": {
   "codemirror_mode": {
    "name": "ipython",
    "version": 3
   },
   "file_extension": ".py",
   "mimetype": "text/x-python",
   "name": "python",
   "nbconvert_exporter": "python",
   "pygments_lexer": "ipython3",
   "version": "3.9.16"
  }
 },
 "nbformat": 4,
 "nbformat_minor": 2
}
